{
  "cells": [
    {
      "cell_type": "markdown",
      "metadata": {
        "id": "view-in-github",
        "colab_type": "text"
      },
      "source": [
        "<a href=\"https://colab.research.google.com/github/Vrushti07/Synapse/blob/week7/Copy_of_SynapseNLPWeek2.ipynb\" target=\"_parent\"><img src=\"https://colab.research.google.com/assets/colab-badge.svg\" alt=\"Open In Colab\"/></a>"
      ]
    },
    {
      "cell_type": "markdown",
      "metadata": {
        "id": "yJZzWLMF1ECo"
      },
      "source": [
        "# **NLP Task 2**\n",
        "\n",
        "## **DJS Synapse Learning Period**\n",
        "![image.png](data:image/png;base64,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)"
      ]
    },
    {
      "cell_type": "markdown",
      "metadata": {
        "id": "lZsrOxOwoc-O"
      },
      "source": [
        "Yay, you made it to Week 2 of NLP! Last time we dealt with various ways to represent text numerically, this week we will dive into various deep learning algorithms specifically suited for NLP related applications."
      ]
    },
    {
      "cell_type": "markdown",
      "metadata": {
        "id": "1EVXfhFkpdEW"
      },
      "source": [
        "An article covering multiple deep learning approaches utilised in NLP - https://medium.com/dair-ai/deep-learning-for-nlp-an-overview-of-recent-trends-d0d8f40a776d"
      ]
    },
    {
      "cell_type": "markdown",
      "metadata": {
        "id": "fQ-Qo4I7yRN5"
      },
      "source": [
        "#Create your own Embedding Layer"
      ]
    },
    {
      "cell_type": "markdown",
      "metadata": {
        "id": "N1hX42L-yith"
      },
      "source": [
        "https://keras.io/api/layers/core_layers/embedding/\n",
        "\n",
        "Look into what is the diiference between the embeddings we built in the previous task and the ones being built through this layer."
      ]
    },
    {
      "cell_type": "code",
      "execution_count": 1,
      "metadata": {
        "id": "wc7IqWfhy2mY"
      },
      "outputs": [],
      "source": [
        "import pandas as pd\n",
        "import numpy as np"
      ]
    },
    {
      "cell_type": "code",
      "execution_count": 2,
      "metadata": {
        "colab": {
          "base_uri": "https://localhost:8080/"
        },
        "id": "_6V2j7QXHdSS",
        "outputId": "5c59da0c-4d88-4eb6-fb44-ee333e080e3b"
      },
      "outputs": [
        {
          "output_type": "stream",
          "name": "stdout",
          "text": [
            "Drive already mounted at /content/gdrive; to attempt to forcibly remount, call drive.mount(\"/content/gdrive\", force_remount=True).\n"
          ]
        }
      ],
      "source": [
        "\n",
        "from google.colab import drive\n",
        "drive.mount('/content/gdrive')"
      ]
    },
    {
      "cell_type": "code",
      "execution_count": 3,
      "metadata": {
        "id": "jRzRd-mpJa6b"
      },
      "outputs": [],
      "source": [
        "\n",
        "# Load the IMDB dataset again\n",
        "df = pd.read_csv('/content/gdrive/MyDrive/Colab Notebooks/IMDB Dataset.csv')"
      ]
    },
    {
      "cell_type": "code",
      "execution_count": 4,
      "metadata": {
        "id": "D7AM9GeP1D4J"
      },
      "outputs": [],
      "source": [
        "#Lemmatizing 50,000 reviews takes a lot of time, so if you are a busybee, run on only 5000 columns\n",
        "df = df[:5000]"
      ]
    },
    {
      "cell_type": "code",
      "execution_count": 5,
      "metadata": {
        "id": "L-gPwVjGKM8H"
      },
      "outputs": [],
      "source": [
        "import re\n",
        "import nltk\n",
        "from nltk.corpus import stopwords"
      ]
    },
    {
      "cell_type": "code",
      "execution_count": 6,
      "metadata": {
        "colab": {
          "base_uri": "https://localhost:8080/"
        },
        "id": "-vPHDX_fJ2Yn",
        "outputId": "3285ba94-d51b-4f18-dede-7f52896d9749"
      },
      "outputs": [
        {
          "output_type": "stream",
          "name": "stderr",
          "text": [
            "[nltk_data] Downloading package punkt to /root/nltk_data...\n",
            "[nltk_data]   Package punkt is already up-to-date!\n",
            "[nltk_data] Downloading package stopwords to /root/nltk_data...\n",
            "[nltk_data]   Package stopwords is already up-to-date!\n",
            "[nltk_data] Downloading package wordnet to /root/nltk_data...\n",
            "[nltk_data]   Package wordnet is already up-to-date!\n",
            "[nltk_data] Downloading package omw-1.4 to /root/nltk_data...\n",
            "[nltk_data]   Package omw-1.4 is already up-to-date!\n"
          ]
        },
        {
          "output_type": "execute_result",
          "data": {
            "text/plain": [
              "True"
            ]
          },
          "metadata": {},
          "execution_count": 6
        }
      ],
      "source": [
        "nltk.download('punkt')\n",
        "nltk.download('stopwords')\n",
        "nltk.download('wordnet')\n",
        "nltk.download('omw-1.4')"
      ]
    },
    {
      "cell_type": "code",
      "execution_count": 7,
      "metadata": {
        "id": "rniGdVGGJZQY"
      },
      "outputs": [],
      "source": [
        "\n",
        "from nltk.stem import WordNetLemmatizer\n",
        "from nltk.tokenize import  word_tokenize\n",
        "\n",
        "lem = WordNetLemmatizer()"
      ]
    },
    {
      "cell_type": "code",
      "execution_count": 8,
      "metadata": {
        "colab": {
          "base_uri": "https://localhost:8080/",
          "height": 703
        },
        "id": "LPWmL-7yLb85",
        "outputId": "b44de7a6-ddb0-49c2-8f12-0901464db6d2"
      },
      "outputs": [
        {
          "output_type": "error",
          "ename": "LookupError",
          "evalue": "\n**********************************************************************\n  Resource \u001b[93mpunkt_tab\u001b[0m not found.\n  Please use the NLTK Downloader to obtain the resource:\n\n  \u001b[31m>>> import nltk\n  >>> nltk.download('punkt_tab')\n  \u001b[0m\n  For more information see: https://www.nltk.org/data.html\n\n  Attempted to load \u001b[93mtokenizers/punkt_tab/english/\u001b[0m\n\n  Searched in:\n    - '/root/nltk_data'\n    - '/usr/nltk_data'\n    - '/usr/share/nltk_data'\n    - '/usr/lib/nltk_data'\n    - '/usr/share/nltk_data'\n    - '/usr/local/share/nltk_data'\n    - '/usr/lib/nltk_data'\n    - '/usr/local/lib/nltk_data'\n**********************************************************************\n",
          "traceback": [
            "\u001b[0;31m---------------------------------------------------------------------------\u001b[0m",
            "\u001b[0;31mLookupError\u001b[0m                               Traceback (most recent call last)",
            "\u001b[0;32m<ipython-input-8-d2225d097341>\u001b[0m in \u001b[0;36m<cell line: 12>\u001b[0;34m()\u001b[0m\n\u001b[1;32m     10\u001b[0m     \u001b[0mcorpus\u001b[0m\u001b[0;34m.\u001b[0m\u001b[0mappend\u001b[0m\u001b[0;34m(\u001b[0m\u001b[0mt_corp\u001b[0m\u001b[0;34m)\u001b[0m\u001b[0;34m\u001b[0m\u001b[0;34m\u001b[0m\u001b[0m\n\u001b[1;32m     11\u001b[0m   \u001b[0;32mreturn\u001b[0m \u001b[0mcorpus\u001b[0m\u001b[0;34m\u001b[0m\u001b[0;34m\u001b[0m\u001b[0m\n\u001b[0;32m---> 12\u001b[0;31m \u001b[0mcorpus\u001b[0m \u001b[0;34m=\u001b[0m \u001b[0mtext_transform\u001b[0m\u001b[0;34m(\u001b[0m\u001b[0mdf\u001b[0m\u001b[0;34m[\u001b[0m\u001b[0;34m'review'\u001b[0m\u001b[0;34m]\u001b[0m\u001b[0;34m)\u001b[0m\u001b[0;34m\u001b[0m\u001b[0;34m\u001b[0m\u001b[0m\n\u001b[0m\u001b[1;32m     13\u001b[0m \u001b[0mcorpus\u001b[0m\u001b[0;34m\u001b[0m\u001b[0;34m\u001b[0m\u001b[0m\n",
            "\u001b[0;32m<ipython-input-8-d2225d097341>\u001b[0m in \u001b[0;36mtext_transform\u001b[0;34m(df)\u001b[0m\n\u001b[1;32m      6\u001b[0m   \u001b[0;32mfor\u001b[0m \u001b[0mi\u001b[0m \u001b[0;32min\u001b[0m \u001b[0mrange\u001b[0m\u001b[0;34m(\u001b[0m\u001b[0mlen\u001b[0m\u001b[0;34m(\u001b[0m\u001b[0mdf\u001b[0m\u001b[0;34m)\u001b[0m\u001b[0;34m)\u001b[0m\u001b[0;34m:\u001b[0m\u001b[0;34m\u001b[0m\u001b[0;34m\u001b[0m\u001b[0m\n\u001b[1;32m      7\u001b[0m     \u001b[0mt_corp\u001b[0m \u001b[0;34m=\u001b[0m \u001b[0mre\u001b[0m\u001b[0;34m.\u001b[0m\u001b[0msub\u001b[0m\u001b[0;34m(\u001b[0m\u001b[0;34m'[^\\s+A-Za-z0-9]'\u001b[0m\u001b[0;34m,\u001b[0m \u001b[0;34m' '\u001b[0m\u001b[0;34m,\u001b[0m \u001b[0mdf\u001b[0m\u001b[0;34m[\u001b[0m\u001b[0mi\u001b[0m\u001b[0;34m]\u001b[0m\u001b[0;34m)\u001b[0m\u001b[0;34m.\u001b[0m\u001b[0mlower\u001b[0m\u001b[0;34m(\u001b[0m\u001b[0;34m)\u001b[0m\u001b[0;34m\u001b[0m\u001b[0;34m\u001b[0m\u001b[0m\n\u001b[0;32m----> 8\u001b[0;31m     \u001b[0mt_corp\u001b[0m \u001b[0;34m=\u001b[0m \u001b[0mword_tokenize\u001b[0m\u001b[0;34m(\u001b[0m\u001b[0mt_corp\u001b[0m\u001b[0;34m)\u001b[0m\u001b[0;34m\u001b[0m\u001b[0;34m\u001b[0m\u001b[0m\n\u001b[0m\u001b[1;32m      9\u001b[0m     \u001b[0mt_corp\u001b[0m \u001b[0;34m=\u001b[0m \u001b[0;34m[\u001b[0m\u001b[0mlem\u001b[0m\u001b[0;34m.\u001b[0m\u001b[0mlemmatize\u001b[0m\u001b[0;34m(\u001b[0m\u001b[0mi\u001b[0m\u001b[0;34m)\u001b[0m \u001b[0;32mfor\u001b[0m \u001b[0mi\u001b[0m \u001b[0;32min\u001b[0m \u001b[0mt_corp\u001b[0m \u001b[0;32mif\u001b[0m \u001b[0mi\u001b[0m \u001b[0;32mnot\u001b[0m \u001b[0;32min\u001b[0m \u001b[0mstop\u001b[0m\u001b[0;34m]\u001b[0m\u001b[0;34m\u001b[0m\u001b[0;34m\u001b[0m\u001b[0m\n\u001b[1;32m     10\u001b[0m     \u001b[0mcorpus\u001b[0m\u001b[0;34m.\u001b[0m\u001b[0mappend\u001b[0m\u001b[0;34m(\u001b[0m\u001b[0mt_corp\u001b[0m\u001b[0;34m)\u001b[0m\u001b[0;34m\u001b[0m\u001b[0;34m\u001b[0m\u001b[0m\n",
            "\u001b[0;32m/usr/local/lib/python3.10/dist-packages/nltk/tokenize/__init__.py\u001b[0m in \u001b[0;36mword_tokenize\u001b[0;34m(text, language, preserve_line)\u001b[0m\n\u001b[1;32m    140\u001b[0m     \u001b[0;34m:\u001b[0m\u001b[0mtype\u001b[0m \u001b[0mpreserve_line\u001b[0m\u001b[0;34m:\u001b[0m \u001b[0mbool\u001b[0m\u001b[0;34m\u001b[0m\u001b[0;34m\u001b[0m\u001b[0m\n\u001b[1;32m    141\u001b[0m     \"\"\"\n\u001b[0;32m--> 142\u001b[0;31m     \u001b[0msentences\u001b[0m \u001b[0;34m=\u001b[0m \u001b[0;34m[\u001b[0m\u001b[0mtext\u001b[0m\u001b[0;34m]\u001b[0m \u001b[0;32mif\u001b[0m \u001b[0mpreserve_line\u001b[0m \u001b[0;32melse\u001b[0m \u001b[0msent_tokenize\u001b[0m\u001b[0;34m(\u001b[0m\u001b[0mtext\u001b[0m\u001b[0;34m,\u001b[0m \u001b[0mlanguage\u001b[0m\u001b[0;34m)\u001b[0m\u001b[0;34m\u001b[0m\u001b[0;34m\u001b[0m\u001b[0m\n\u001b[0m\u001b[1;32m    143\u001b[0m     return [\n\u001b[1;32m    144\u001b[0m         \u001b[0mtoken\u001b[0m \u001b[0;32mfor\u001b[0m \u001b[0msent\u001b[0m \u001b[0;32min\u001b[0m \u001b[0msentences\u001b[0m \u001b[0;32mfor\u001b[0m \u001b[0mtoken\u001b[0m \u001b[0;32min\u001b[0m \u001b[0m_treebank_word_tokenizer\u001b[0m\u001b[0;34m.\u001b[0m\u001b[0mtokenize\u001b[0m\u001b[0;34m(\u001b[0m\u001b[0msent\u001b[0m\u001b[0;34m)\u001b[0m\u001b[0;34m\u001b[0m\u001b[0;34m\u001b[0m\u001b[0m\n",
            "\u001b[0;32m/usr/local/lib/python3.10/dist-packages/nltk/tokenize/__init__.py\u001b[0m in \u001b[0;36msent_tokenize\u001b[0;34m(text, language)\u001b[0m\n\u001b[1;32m    117\u001b[0m     \u001b[0;34m:\u001b[0m\u001b[0mparam\u001b[0m \u001b[0mlanguage\u001b[0m\u001b[0;34m:\u001b[0m \u001b[0mthe\u001b[0m \u001b[0mmodel\u001b[0m \u001b[0mname\u001b[0m \u001b[0;32min\u001b[0m \u001b[0mthe\u001b[0m \u001b[0mPunkt\u001b[0m \u001b[0mcorpus\u001b[0m\u001b[0;34m\u001b[0m\u001b[0;34m\u001b[0m\u001b[0m\n\u001b[1;32m    118\u001b[0m     \"\"\"\n\u001b[0;32m--> 119\u001b[0;31m     \u001b[0mtokenizer\u001b[0m \u001b[0;34m=\u001b[0m \u001b[0m_get_punkt_tokenizer\u001b[0m\u001b[0;34m(\u001b[0m\u001b[0mlanguage\u001b[0m\u001b[0;34m)\u001b[0m\u001b[0;34m\u001b[0m\u001b[0;34m\u001b[0m\u001b[0m\n\u001b[0m\u001b[1;32m    120\u001b[0m     \u001b[0;32mreturn\u001b[0m \u001b[0mtokenizer\u001b[0m\u001b[0;34m.\u001b[0m\u001b[0mtokenize\u001b[0m\u001b[0;34m(\u001b[0m\u001b[0mtext\u001b[0m\u001b[0;34m)\u001b[0m\u001b[0;34m\u001b[0m\u001b[0;34m\u001b[0m\u001b[0m\n\u001b[1;32m    121\u001b[0m \u001b[0;34m\u001b[0m\u001b[0m\n",
            "\u001b[0;32m/usr/local/lib/python3.10/dist-packages/nltk/tokenize/__init__.py\u001b[0m in \u001b[0;36m_get_punkt_tokenizer\u001b[0;34m(language)\u001b[0m\n\u001b[1;32m    103\u001b[0m     \u001b[0;34m:\u001b[0m\u001b[0mtype\u001b[0m \u001b[0mlanguage\u001b[0m\u001b[0;34m:\u001b[0m \u001b[0mstr\u001b[0m\u001b[0;34m\u001b[0m\u001b[0;34m\u001b[0m\u001b[0m\n\u001b[1;32m    104\u001b[0m     \"\"\"\n\u001b[0;32m--> 105\u001b[0;31m     \u001b[0;32mreturn\u001b[0m \u001b[0mPunktTokenizer\u001b[0m\u001b[0;34m(\u001b[0m\u001b[0mlanguage\u001b[0m\u001b[0;34m)\u001b[0m\u001b[0;34m\u001b[0m\u001b[0;34m\u001b[0m\u001b[0m\n\u001b[0m\u001b[1;32m    106\u001b[0m \u001b[0;34m\u001b[0m\u001b[0m\n\u001b[1;32m    107\u001b[0m \u001b[0;34m\u001b[0m\u001b[0m\n",
            "\u001b[0;32m/usr/local/lib/python3.10/dist-packages/nltk/tokenize/punkt.py\u001b[0m in \u001b[0;36m__init__\u001b[0;34m(self, lang)\u001b[0m\n\u001b[1;32m   1742\u001b[0m     \u001b[0;32mdef\u001b[0m \u001b[0m__init__\u001b[0m\u001b[0;34m(\u001b[0m\u001b[0mself\u001b[0m\u001b[0;34m,\u001b[0m \u001b[0mlang\u001b[0m\u001b[0;34m=\u001b[0m\u001b[0;34m\"english\"\u001b[0m\u001b[0;34m)\u001b[0m\u001b[0;34m:\u001b[0m\u001b[0;34m\u001b[0m\u001b[0;34m\u001b[0m\u001b[0m\n\u001b[1;32m   1743\u001b[0m         \u001b[0mPunktSentenceTokenizer\u001b[0m\u001b[0;34m.\u001b[0m\u001b[0m__init__\u001b[0m\u001b[0;34m(\u001b[0m\u001b[0mself\u001b[0m\u001b[0;34m)\u001b[0m\u001b[0;34m\u001b[0m\u001b[0;34m\u001b[0m\u001b[0m\n\u001b[0;32m-> 1744\u001b[0;31m         \u001b[0mself\u001b[0m\u001b[0;34m.\u001b[0m\u001b[0mload_lang\u001b[0m\u001b[0;34m(\u001b[0m\u001b[0mlang\u001b[0m\u001b[0;34m)\u001b[0m\u001b[0;34m\u001b[0m\u001b[0;34m\u001b[0m\u001b[0m\n\u001b[0m\u001b[1;32m   1745\u001b[0m \u001b[0;34m\u001b[0m\u001b[0m\n\u001b[1;32m   1746\u001b[0m     \u001b[0;32mdef\u001b[0m \u001b[0mload_lang\u001b[0m\u001b[0;34m(\u001b[0m\u001b[0mself\u001b[0m\u001b[0;34m,\u001b[0m \u001b[0mlang\u001b[0m\u001b[0;34m=\u001b[0m\u001b[0;34m\"english\"\u001b[0m\u001b[0;34m)\u001b[0m\u001b[0;34m:\u001b[0m\u001b[0;34m\u001b[0m\u001b[0;34m\u001b[0m\u001b[0m\n",
            "\u001b[0;32m/usr/local/lib/python3.10/dist-packages/nltk/tokenize/punkt.py\u001b[0m in \u001b[0;36mload_lang\u001b[0;34m(self, lang)\u001b[0m\n\u001b[1;32m   1747\u001b[0m         \u001b[0;32mfrom\u001b[0m \u001b[0mnltk\u001b[0m\u001b[0;34m.\u001b[0m\u001b[0mdata\u001b[0m \u001b[0;32mimport\u001b[0m \u001b[0mfind\u001b[0m\u001b[0;34m\u001b[0m\u001b[0;34m\u001b[0m\u001b[0m\n\u001b[1;32m   1748\u001b[0m \u001b[0;34m\u001b[0m\u001b[0m\n\u001b[0;32m-> 1749\u001b[0;31m         \u001b[0mlang_dir\u001b[0m \u001b[0;34m=\u001b[0m \u001b[0mfind\u001b[0m\u001b[0;34m(\u001b[0m\u001b[0;34mf\"tokenizers/punkt_tab/{lang}/\"\u001b[0m\u001b[0;34m)\u001b[0m\u001b[0;34m\u001b[0m\u001b[0;34m\u001b[0m\u001b[0m\n\u001b[0m\u001b[1;32m   1750\u001b[0m         \u001b[0mself\u001b[0m\u001b[0;34m.\u001b[0m\u001b[0m_params\u001b[0m \u001b[0;34m=\u001b[0m \u001b[0mload_punkt_params\u001b[0m\u001b[0;34m(\u001b[0m\u001b[0mlang_dir\u001b[0m\u001b[0;34m)\u001b[0m\u001b[0;34m\u001b[0m\u001b[0;34m\u001b[0m\u001b[0m\n\u001b[1;32m   1751\u001b[0m         \u001b[0mself\u001b[0m\u001b[0;34m.\u001b[0m\u001b[0m_lang\u001b[0m \u001b[0;34m=\u001b[0m \u001b[0mlang\u001b[0m\u001b[0;34m\u001b[0m\u001b[0;34m\u001b[0m\u001b[0m\n",
            "\u001b[0;32m/usr/local/lib/python3.10/dist-packages/nltk/data.py\u001b[0m in \u001b[0;36mfind\u001b[0;34m(resource_name, paths)\u001b[0m\n\u001b[1;32m    577\u001b[0m     \u001b[0msep\u001b[0m \u001b[0;34m=\u001b[0m \u001b[0;34m\"*\"\u001b[0m \u001b[0;34m*\u001b[0m \u001b[0;36m70\u001b[0m\u001b[0;34m\u001b[0m\u001b[0;34m\u001b[0m\u001b[0m\n\u001b[1;32m    578\u001b[0m     \u001b[0mresource_not_found\u001b[0m \u001b[0;34m=\u001b[0m \u001b[0;34mf\"\\n{sep}\\n{msg}\\n{sep}\\n\"\u001b[0m\u001b[0;34m\u001b[0m\u001b[0;34m\u001b[0m\u001b[0m\n\u001b[0;32m--> 579\u001b[0;31m     \u001b[0;32mraise\u001b[0m \u001b[0mLookupError\u001b[0m\u001b[0;34m(\u001b[0m\u001b[0mresource_not_found\u001b[0m\u001b[0;34m)\u001b[0m\u001b[0;34m\u001b[0m\u001b[0;34m\u001b[0m\u001b[0m\n\u001b[0m\u001b[1;32m    580\u001b[0m \u001b[0;34m\u001b[0m\u001b[0m\n\u001b[1;32m    581\u001b[0m \u001b[0;34m\u001b[0m\u001b[0m\n",
            "\u001b[0;31mLookupError\u001b[0m: \n**********************************************************************\n  Resource \u001b[93mpunkt_tab\u001b[0m not found.\n  Please use the NLTK Downloader to obtain the resource:\n\n  \u001b[31m>>> import nltk\n  >>> nltk.download('punkt_tab')\n  \u001b[0m\n  For more information see: https://www.nltk.org/data.html\n\n  Attempted to load \u001b[93mtokenizers/punkt_tab/english/\u001b[0m\n\n  Searched in:\n    - '/root/nltk_data'\n    - '/usr/nltk_data'\n    - '/usr/share/nltk_data'\n    - '/usr/lib/nltk_data'\n    - '/usr/share/nltk_data'\n    - '/usr/local/share/nltk_data'\n    - '/usr/lib/nltk_data'\n    - '/usr/local/lib/nltk_data'\n**********************************************************************\n"
          ]
        }
      ],
      "source": [
        "# Dust off the function you used last time to pre-process your data. Remember, the corpus should be a list of list of words\n",
        "def text_transform(df):\n",
        "  corpus = []\n",
        "  #code here\n",
        "  stop = stopwords.words('english')\n",
        "  for i in range(len(df)):\n",
        "    t_corp = re.sub('[^\\s+A-Za-z0-9]', ' ', df[i]).lower()\n",
        "    t_corp = word_tokenize(t_corp)\n",
        "    t_corp = [lem.lemmatize(i) for i in t_corp if i not in stop]\n",
        "    corpus.append(t_corp)\n",
        "  return corpus\n",
        "corpus = text_transform(df['review'])\n",
        "corpus"
      ]
    },
    {
      "cell_type": "code",
      "execution_count": null,
      "metadata": {
        "id": "Kk2amZ-bza_h"
      },
      "outputs": [],
      "source": [
        "import tensorflow as tf\n",
        "from tensorflow.keras.preprocessing.text import one_hot\n",
        "from tensorflow.keras.layers import Embedding,Dense,Flatten\n",
        "from tensorflow.keras.preprocessing.sequence import pad_sequences\n",
        "from tensorflow.keras.models import Sequential"
      ]
    },
    {
      "cell_type": "markdown",
      "metadata": {
        "id": "nlTlEg4tzi2k"
      },
      "source": [
        "If you read up on Keras' Embedding layer, you know that it converts an indiced representation of your vocabulary into dense embedded vectors which you can feed into subsequent layers. We will use One-Hot representation to create this index. The one-hot library on the input vocabulary size returns an array of integers ranging from 1 to vocabulary size. It indicates the index of the '1' in the one hot representation for the word."
      ]
    },
    {
      "cell_type": "code",
      "execution_count": null,
      "metadata": {
        "id": "BmPfc3C90XNz"
      },
      "outputs": [],
      "source": [
        "#Find vocabulary count of your corpus\n",
        "#code\n",
        "vocabulary = len(set([i for j in corpus for i in j]))\n",
        "vocabulary"
      ]
    },
    {
      "cell_type": "markdown",
      "metadata": {
        "id": "g12yvaGuo-Eo"
      },
      "source": [
        "https://www.tensorflow.org/api_docs/python/tf/keras/preprocessing/text/one_hot"
      ]
    },
    {
      "cell_type": "code",
      "execution_count": null,
      "metadata": {
        "id": "hMK-wIdV0nWh"
      },
      "outputs": [],
      "source": [
        "#Look into what format the one_hot library requires and accordingly fill data in OH_rep\n",
        "OH_rep = []\n",
        "#code\n",
        "for i in df['review']:\n",
        "  OH_rep.append(one_hot(i,vocabulary))\n",
        "\n",
        "#OH_rep contains the vectorized numeric values"
      ]
    },
    {
      "cell_type": "code",
      "execution_count": null,
      "metadata": {
        "id": "l2w1Tabs5ojf"
      },
      "outputs": [],
      "source": [
        "len(OH_rep)"
      ]
    },
    {
      "cell_type": "code",
      "execution_count": null,
      "metadata": {
        "id": "l_5tP3eG6lym"
      },
      "outputs": [],
      "source": [
        "\n",
        "# Padding: 2 types: pre padding, post padding - try both\n",
        "# Wisely select the sentence length to accomodate all sentences with a couple of extra bits to avoid errors.\n",
        "# Add your code here\n",
        "pre_pad = pad_sequences(OH_rep, maxlen = 500, padding = \"pre\", truncating = \"post\")#code\n",
        "post_pad = pad_sequences(OH_rep, maxlen = 500, padding = \"post\", truncating = \"post\")\n",
        "print(pre_pad[0])\n",
        "print(\"\\n\",post_pad[0])"
      ]
    },
    {
      "cell_type": "markdown",
      "metadata": {
        "id": "CaLPqAUr0aVn"
      },
      "source": [
        "In case you're still confused by Keras' Sequential Model - https://youtu.be/VGCHcgmZu24?si=ntdywfeqCcAjWWqZ"
      ]
    },
    {
      "cell_type": "markdown",
      "metadata": {
        "id": "8gGWtZgppn3w"
      },
      "source": [
        "Lets make a custom Embedding Layer now."
      ]
    },
    {
      "cell_type": "code",
      "execution_count": null,
      "metadata": {
        "id": "w6rWPayTcyjh"
      },
      "outputs": [],
      "source": [
        "class CustomEmbeddingLayer(tf.keras.layers.Layer):\n",
        "    def __init__(self, vocab_size, embed_dim):\n",
        "        super(CustomEmbeddingLayer, self).__init__()\n",
        "        self.vocab_size = vocab_size\n",
        "        self.embed_dim = embed_dim\n",
        "        # Initialize the embedding matrix with random values\n",
        "        self.embedding_matrix = self.add_weight(name = \"embedding_matrix\",\n",
        "                                               shape=(self.vocab_size, self.embed_dim),\n",
        "                                               initializer=\"random_normal\",\n",
        "                                               trainable=True)\n",
        "\n",
        "    def call(self, inputs):\n",
        "        # Map integer indices to embedding vectors\n",
        "        inputs = tf.cast(inputs, dtype = tf.int32) #to resolve the type error (float32)\n",
        "        return tf.nn.embedding_lookup(self.embedding_matrix, inputs) #Look into this (hint: you can use Tensorflow for this)\n"
      ]
    },
    {
      "cell_type": "code",
      "execution_count": null,
      "metadata": {
        "id": "iwjVGDG_AWeb"
      },
      "outputs": [],
      "source": [
        "# select your feature dimensions: 5 for very small datasets, 10 is generally a good choice\n",
        "dim= 10"
      ]
    },
    {
      "cell_type": "code",
      "execution_count": null,
      "metadata": {
        "id": "UPLNuTdSdO3l"
      },
      "outputs": [],
      "source": [
        "# Create a sequential model with the custom embedding layer along with the appropriate vocabulary size and the decided dimension size.\n",
        "# Remember to add a Flatten layer to convert the input from 3D to 2D, and a final Dense layer.\n",
        "#Your code here\n",
        "model = Sequential()\n",
        "model.add(CustomEmbeddingLayer(vocabulary, dim))\n",
        "model.add(Flatten())\n",
        "model.add(Dense(units = 1, activation = 'sigmoid'))"
      ]
    },
    {
      "cell_type": "code",
      "execution_count": null,
      "metadata": {
        "id": "KzWS7owPsjJc"
      },
      "outputs": [],
      "source": [
        "#Compile the model with optimizer adam and loss mse\n",
        "# Code here\n",
        "model.compile(optimizer = 'adam',\n",
        "              loss = 'mse',\n",
        "              metrics = ['accuracy'])\n",
        "\n",
        "model.summary()"
      ]
    },
    {
      "cell_type": "code",
      "execution_count": null,
      "metadata": {
        "id": "C90PxcnjutMI"
      },
      "outputs": [],
      "source": [
        "import pandas as pd\n",
        "y=pd.get_dummies(df['sentiment'])\n",
        "y=y.iloc[:,1].values\n",
        "y"
      ]
    },
    {
      "cell_type": "code",
      "execution_count": null,
      "metadata": {
        "id": "DWpv81xBuq6E"
      },
      "outputs": [],
      "source": [
        "#Split the dataset into train,test dataset\n",
        "#Code here\n",
        "X = pre_pad\n",
        "from sklearn.model_selection import train_test_split\n",
        "\n",
        "X_train, X_test, y_train, y_test = train_test_split(X,y, random_state = 10)"
      ]
    },
    {
      "cell_type": "code",
      "execution_count": null,
      "metadata": {
        "id": "Qtt96uGGecjE"
      },
      "outputs": [],
      "source": [
        "model.fit(X_train,y_train, epochs=10, verbose=2)"
      ]
    },
    {
      "cell_type": "code",
      "execution_count": null,
      "metadata": {
        "id": "wSZbOchIikS5"
      },
      "outputs": [],
      "source": [
        "model.evaluate(X_test,y_test,verbose=2)"
      ]
    },
    {
      "cell_type": "markdown",
      "metadata": {
        "id": "S3KkVRp8uVHt"
      },
      "source": [
        "Now that you tried out your own embedding layer, use Keras' inbuilt Embedding layer and run your model again. Are the accuracies comparable?"
      ]
    },
    {
      "cell_type": "code",
      "execution_count": null,
      "metadata": {
        "id": "shsQahNZ9b8V"
      },
      "outputs": [],
      "source": [
        "new_model = Sequential()\n",
        "new_model.add(Embedding(vocabulary, dim, input_length = 500))\n",
        "new_model.add(Flatten())\n",
        "new_model.add(Dense(units = 1, activation = 'sigmoid'))\n",
        "\n",
        "new_model.compile(optimizer = 'adam',\n",
        "                  loss = 'mse',\n",
        "                  metrics = ['accuracy'])\n",
        "\n",
        "new_model.fit(X_train,y_train, epochs=10, verbose=2)\n",
        "new_model.evaluate(X_test, y_test, verbose = True)"
      ]
    },
    {
      "cell_type": "markdown",
      "metadata": {
        "id": "8DylqbT_-X21"
      },
      "source": [
        "Nearly equal accuracies, but the inbuilt layer is producing higher accuracy."
      ]
    },
    {
      "cell_type": "markdown",
      "metadata": {
        "id": "8SaRPt8i9ZiY"
      },
      "source": [
        "#Text Generation using LSTM"
      ]
    },
    {
      "cell_type": "markdown",
      "metadata": {
        "id": "zps8f3s8uu8B"
      },
      "source": [
        "LSTM Networks are used for a wide variety of purposes ranging from sentiment analysis to time series analysis, but one of its most interesting applications is text generation, which has tremendous application. All Large Language Models like GPT essentially perform is text generation, where they complete your prompt with a response deemed most appropriate to complete the prompt.\n",
        "\n",
        "But let's back up a bit. If you didn't know, what is an LSTM Network?\n",
        "Rewatch these videos -\n",
        "https://youtu.be/WCUNPb-5EYI?si=4URnZuUdGkMwNmTY\n",
        "\n",
        "https://youtu.be/YCzL96nL7j0?si=iHYqMXEV9VF1q9x2\n",
        "\n"
      ]
    },
    {
      "cell_type": "markdown",
      "metadata": {
        "id": "5KBhiJHlwUw1"
      },
      "source": [
        "Hopefully you can now appreciate how an LSTM is well suited to handle the challenge of text generation. Actually, wait, explain to me how LSTM's are suited to handle this task and capture context."
      ]
    },
    {
      "cell_type": "markdown",
      "metadata": {
        "id": "qYN_nhxrwjJl"
      },
      "source": [
        "Ans:<br>\n",
        "*   LSTMs have the ability of retaining context of words which it had encountered previously, unlike RNNs, through memory cells that they possess. Thus, with the context already kept in mind, it can generate text with a greater accuracy.\n",
        "*   As they have three gates -> Forget Gate (for deciding whether a particular word which has been passed to it as an input is really significant and thus deciding to retain or discard it), Input Gate (for updating the text it has with the new input), and Output Gate (for sending the updated text to other LSTM layer), it is ensured that only those words that hold relevance and add on to the meaning of the text are retained."
      ]
    },
    {
      "cell_type": "code",
      "execution_count": null,
      "metadata": {
        "id": "wVMb9wgAmT7c"
      },
      "outputs": [],
      "source": [
        "import numpy as np\n",
        "import tensorflow as tf\n",
        "from tensorflow.keras.preprocessing.sequence import pad_sequences\n",
        "from tensorflow.keras.models import Sequential\n",
        "from tensorflow.keras.layers import LSTM, Dense, Embedding"
      ]
    },
    {
      "cell_type": "markdown",
      "metadata": {
        "id": "MxFhigUuwnxV"
      },
      "source": [
        "Now a question arises, what are we exactly generating? It would be foolish to assume the model just spits out a fully formed block of text. We can predict either the next character of next word in a sequence, and keep doing so until we have a block of text.\n",
        "\n",
        "Which method is better, you ask?\n",
        "\n",
        "https://medium.com/@john.l.tauscher/word-vs-character-text-generation-80a6dbba123a#:~:text=So%2C%20for%20a%20character%20generative,below%2C%20I%20had%2012%2C700%20inputs.\n",
        "\n",
        "For this task, we will proceed with word generation."
      ]
    },
    {
      "cell_type": "markdown",
      "metadata": {
        "id": "GeQbrS8m1NcV"
      },
      "source": [
        "We need a dataset for the model to learn how to generate text, and for that we're going to pick up the very wonderful book Alice In Wonderland by Lewis Caroll. Thanks, Lewis.\n",
        "\n",
        "https://drive.google.com/file/d/1QOcIEov-jZqiJ6K7oDnaWup81Q7l_Ji3/view?usp=drive_link"
      ]
    },
    {
      "cell_type": "code",
      "execution_count": null,
      "metadata": {
        "id": "BDyT19nzxcJt"
      },
      "outputs": [],
      "source": [
        "# Load your text data\n",
        "file_path = '/content/gdrive/My Drive/SynapseLP/aliceinwonderland.txt'\n",
        "with open(file_path, 'r', encoding='utf-8') as file:\n",
        "    text = file.read()\n",
        "\n",
        "text"
      ]
    },
    {
      "cell_type": "code",
      "execution_count": null,
      "metadata": {
        "id": "mcvcAXnCxeZn"
      },
      "outputs": [],
      "source": [
        "# Tokenize the text. Use Tokenizer provided by Keras and fit the text\n",
        "import re\n",
        "tokenizer = tf.keras.preprocessing.text.Tokenizer()\n",
        "#code here\n",
        "sent = []\n",
        "for i in text.split('.'):\n",
        "    i = re.sub('[^\\s+A-Za-z0-9.]', ' ', i).lower().split('\\n')\n",
        "    for j in i:\n",
        "        sent.append(j)\n",
        "\n",
        "tokenizer.fit_on_texts(sent)\n",
        "vocabulary =  len(tokenizer.word_index) + 1\n",
        "vocabulary #no of words in tokenizer + 1"
      ]
    },
    {
      "cell_type": "markdown",
      "metadata": {
        "id": "5rRJbOKty_aU"
      },
      "source": [
        "Now, instead of just passing complete sentences into our model, we will pass n-grams of increasing length which predicts the next word. As a result, the last n-gram of a sentence consists mostly of words which have been predicted by earlier n-grams. This image should make it clearer -\n",
        "\n",
        "![image.png](data:image/png;base64,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)"
      ]
    },
    {
      "cell_type": "code",
      "execution_count": null,
      "metadata": {
        "id": "mwjEDaS4x55X"
      },
      "outputs": [],
      "source": [
        "# Convert text to sequences\n",
        "input_sequences = []\n",
        "for line in text.split('\\n'):\n",
        "    #use tokenizer.sequences_to_lists to convert your text into tokens and create a list called token_list\n",
        "    token_list = tokenizer.texts_to_sequences([line])[0]#write code here\n",
        "\n",
        "    #create n-grams with length 1,2,3....upto length of token_list and append to input_sequences (Include the word to be predicted)\n",
        "    for i in range(1, len(token_list)):\n",
        "        n_gram_sequence = token_list[:i+1]\n",
        "        input_sequences.append(n_gram_sequence)\n",
        "\n",
        "input_sequences"
      ]
    },
    {
      "cell_type": "markdown",
      "metadata": {
        "id": "vUz1OpW82yZ7"
      },
      "source": [
        "The input_sequences list you got has n-grams of variable length, which isin't very good for training, so we pad the sequences to make them equal in length."
      ]
    },
    {
      "cell_type": "code",
      "execution_count": null,
      "metadata": {
        "id": "S1t1ccu52vPr"
      },
      "outputs": [],
      "source": [
        "# Pad sequences for equal length\n",
        "max_sequence_length = max(len(i) for i in input_sequences)#find max length among all sequences\n",
        "#use pad_sequences to perform prepadding\n",
        "input_sequences = pad_sequences(input_sequences, padding = 'pre', truncating = 'post')\n",
        "input_sequences"
      ]
    },
    {
      "cell_type": "code",
      "execution_count": null,
      "metadata": {
        "id": "e80GZV1jmUji"
      },
      "outputs": [],
      "source": [
        "# Create predictors and labels\n",
        "X, y = input_sequences[:,:-1],input_sequences[:,-1] #X is sequence of words except the last word, y is the word to be predicted\n",
        "y = tf.keras.utils.to_categorical(y)#Use to_categorical function of Keras to convert target words\n",
        "\n",
        "print(X.shape, y.shape)"
      ]
    },
    {
      "cell_type": "code",
      "execution_count": null,
      "metadata": {
        "id": "gDPSd6yzoGGY"
      },
      "outputs": [],
      "source": [
        "#Create a sequential model with an Embedding layer with vocabulary, dimensions, and input_length as parameters, an LSTM with 100 units, and a Dense layer with softmax activation\n",
        "model = Sequential()\n",
        "model.add(Embedding(vocabulary, 100)) #removed input_length as it was giving an\n",
        "model.add(LSTM(100))\n",
        "model.add(Dense(vocabulary, activation='softmax'))\n",
        "\n",
        "model.compile(loss='mse', optimizer='adam',metrics=['accuracy'])"
      ]
    },
    {
      "cell_type": "code",
      "execution_count": null,
      "metadata": {
        "id": "VuxEbbXpoMv-"
      },
      "outputs": [],
      "source": [
        "model.fit(X, y, epochs=350,verbose=2) # increase the number of epochs for better accuracy, decrease for reducing time\n",
        "#epochs = 100 -> nearly 33% accuracy\n",
        "#epochs = 150 -> nearly 38%\n",
        "#epochs = 200 -> nearly 42%\n",
        "#epochs = 300 -> 50.38%\n",
        "#epochs = 350 ->"
      ]
    },
    {
      "cell_type": "code",
      "execution_count": null,
      "metadata": {
        "id": "EspPa4FIoPek"
      },
      "outputs": [],
      "source": [
        "def generate_text(seed_text, next_words, model, max_sequence_len):\n",
        "    for _ in range(next_words):\n",
        "        token_list = tokenizer.texts_to_sequences([seed_text])[0]#Convert seed_text into tokens\n",
        "        token_list = np.array(pad_sequences([token_list], padding = 'pre', maxlen = max_sequence_length -1))#Perform prepadding on text\n",
        "        # token_list = np.array(token_list).reshape(1, max_sequence_length -1)\n",
        "        predicted_probs = model.predict(token_list, verbose=0)[0]\n",
        "\n",
        "        predicted = np.argmax(predicted_probs)\n",
        "        #return index of max probability value from the predictions\n",
        "\n",
        "        output_word = \"\"\n",
        "        #Search through the index list of your tokenizer (word_index) and if it matches the predicted index, save it as output_word and break\n",
        "        for word, index in tokenizer.word_index.items():\n",
        "            if index == predicted:\n",
        "                output_word = word\n",
        "                break\n",
        "\n",
        "\n",
        "        seed_text += \" \" + output_word\n",
        "    return seed_text\n",
        "\n",
        "# Generate text\n",
        "generated_text = generate_text(\"Alice was\", 20, model, max_sequence_length)\n",
        "print(generated_text)"
      ]
    },
    {
      "cell_type": "markdown",
      "metadata": {
        "id": "Cb-nuBlq8Qvx"
      },
      "source": [
        "Hey, not bad! There is some coherence in outputted text which matches the style of the input text. Now its your turn to try and make the output make more sense by improving the model. Add more layers, increase the epochs, use a bigger dataset, play around with it! For example, you can load a document which has all the works of shakespeare and see how the output changes.\n",
        "\n",
        "Do you now have some more respect for poor ChatGPT, which spits highly coherent and verbose sentences in the blink of an eye? Imagine how much training went into that."
      ]
    },
    {
      "cell_type": "markdown",
      "metadata": {
        "id": "miR1knqG9Xyq"
      },
      "source": [
        "Well, if you look at it closely, we're kinda cheating (but not really) by having words in our tokenizer since our model always defaults to a word in the vocab and shows some coherence. If you really wanna get wild, try out character generation and get coherent outputs from that -\n",
        "\n",
        "https://machinelearningmastery.com/text-generation-lstm-recurrent-neural-networks-python-keras/\n",
        "\n",
        "Starting out, obviously you get a lot of random character wishwash, but many many iterations in, you can see the model truly attempt to capture the word style of the original document."
      ]
    },
    {
      "cell_type": "markdown",
      "metadata": {
        "id": "5aa__eLSJTBi"
      },
      "source": [
        "# Question Answering using RNN\n",
        "\n",
        "\n"
      ]
    },
    {
      "cell_type": "markdown",
      "metadata": {
        "id": "eKF5hCiQ-fJB"
      },
      "source": [
        "First things first, what are RNN's ?\n",
        "\n",
        "Ans: A recurrent neural network is a type of deep learning neural net that remembers the input sequence, stores it in memory states/cell states, and predicts the future words/sentences. However, they have a very short term retaining capacity.\n",
        "\n",
        "https://www.youtube.com/watch?v=UNmqTiOnRfg\n",
        "\n",
        "https://www.youtube.com/watch?v=OuYtk9Ymut4\n",
        "\n",
        "For the adventurous people who need a challenge in life\n",
        "\n",
        "https://www.analyticsvidhya.com/blog/2019/01/fundamentals-deep-learning-recurrent-neural-networks-scratch-python/"
      ]
    },
    {
      "cell_type": "markdown",
      "metadata": {
        "id": "lk7VdUJaA9fA"
      },
      "source": [
        "So everybody's heard about Sentiment Analysis. We are NOT going to do that here. Well, not in its rudimentary way. For a sentence which we know is positive, the question would essentially be, what part of the sentence is positive, and given the sentence as context, the answer gives you the part of the sentence which caused it to be positive. All possible through the power of RNN's. Let's start.\n",
        "\n",
        "https://drive.google.com/file/d/1tR82E9MmUpTUdJzrng8z1iVgBlBiX08A/view?usp=drive_link"
      ]
    },
    {
      "cell_type": "code",
      "execution_count": null,
      "metadata": {
        "id": "jZCzv-poLoO1"
      },
      "outputs": [],
      "source": [
        "# write code to load the dataset\n",
        "rnn_df = pd.read_csv('/content/gdrive/My Drive/SynapseLP/ques_ans.csv')\n",
        "rnn_df"
      ]
    },
    {
      "cell_type": "code",
      "execution_count": null,
      "metadata": {
        "id": "jWv6i3fWJVtX"
      },
      "outputs": [],
      "source": [
        "from tensorflow.keras.preprocessing.text import Tokenizer\n",
        "context_tokenizer = Tokenizer()\n",
        "tokenizer = Tokenizer()\n",
        "\n",
        "#Fit your tokenizer on the text column\n",
        "context_tokenizer.fit_on_texts(rnn_df.text.astype('str').tolist())\n",
        "context = context_tokenizer.texts_to_sequences(rnn_df.text.astype('str').tolist())#Convert texts to sequences with the tokenizer for text column\n",
        "tokenizer.fit_on_texts(rnn_df.selected_text.astype('str').tolist())\n",
        "answers = tokenizer.texts_to_sequences(rnn_df.selected_text.astype('str').tolist())#Convert texts to sequences with the tokenizer for the selected_text column\n",
        "\n",
        "\n",
        "#Finding the beginning and ending position of the answer in the context list\n",
        "beg_pos = [[1 if a[x:x+len(b)] == b else 0 for x in range(len(a))] for a, b in zip(context, answers)]\n",
        "end_pos = [[1 if a[x:x+len(b)] == b else 0 for x in range(len(a))] for a, b in zip(context, answers)]\n"
      ]
    },
    {
      "cell_type": "code",
      "execution_count": null,
      "metadata": {
        "id": "By_dxSPvKUlk"
      },
      "outputs": [],
      "source": [
        "import numpy as np\n",
        "from tensorflow.keras.preprocessing.sequence import pad_sequences\n",
        "context = np.array(pad_sequences(context, maxlen=36, padding='post', truncating='post'))\n",
        "#Do the same for beg_pos and end_pos\n",
        "beg_pos = np.array(pad_sequences(beg_pos, maxlen= 36, padding = 'post', truncating = 'post'))\n",
        "end_pos = np.array(pad_sequences(end_pos, maxlen = 36, padding = 'post', truncating = 'post'))\n",
        "\n",
        "# Using numpy, check for rows in 'beg_pos' where all elements are zero\n",
        "non_zero = np.where(np.all(beg_pos == 0, axis = 1))\n",
        "\n",
        "# Filter out rows in the arrays context, beg_pos, and end_pos where 'beg_pos' is all zero\n",
        "context = context[np.where(np.all(beg_pos == 0, axis = 1))[0]]\n",
        "beg_pos = beg_pos[np.where(np.all(beg_pos == 0, axis = 1))[0]]\n",
        "end_pos = end_pos[np.where(np.all(beg_pos == 0, axis = 1))[0]]\n",
        "\n",
        "# Add a new axis to 'beg_pos' and 'end_pos'\n",
        "beg_pos = np.expand_dims(beg_pos, axis=2)\n",
        "end_pos = np.expand_dims(end_pos, axis=2)\n",
        "\n",
        "# Concatenate 'beg_pos' and 'end_pos' along the third axis, creating a 3D array\n",
        "ans_vec = np.concatenate((beg_pos, end_pos), axis=2)\n",
        "\n",
        "context.shape, beg_pos.shape, end_pos.shape, ans_vec.shape"
      ]
    },
    {
      "cell_type": "code",
      "execution_count": null,
      "metadata": {
        "id": "yZFr55V7KmHO"
      },
      "outputs": [],
      "source": [
        "question_tokenizer = Tokenizer()\n",
        "question_tokenizer.fit_on_texts(rnn_df.sentiment.fillna(''))\n",
        "question = question_tokenizer.texts_to_sequences(rnn_df.sentiment.fillna(''))\n",
        "# write code to pad sequences for question, like in the previous cell\n",
        "question = pad_sequences(question, maxlen = 36, padding = 'post', truncating = 'post')\n",
        "# Filter out rows in the question array where 'beg_pos' is all zero\n",
        "question = question[np.where(np.all(beg_pos == 0, axis = 1))[0]]\n",
        "question.shape"
      ]
    },
    {
      "cell_type": "code",
      "execution_count": null,
      "metadata": {
        "id": "EMdkUz60L-1M"
      },
      "outputs": [],
      "source": [
        "# perform train test split on context, question and ans_vec and print its shape\n",
        "from sklearn.model_selection import train_test_split\n",
        "context_train, context_test, question_train, question_test, ans_vec_train, ans_vec_test = train_test_split(context, question, ans_vec, test_size = 0.2, random_state = 10)\n",
        "context_train.shape, context_test.shape, question_train.shape, question_test.shape, ans_vec_train.shape, ans_vec_test.shape"
      ]
    },
    {
      "cell_type": "markdown",
      "metadata": {
        "id": "8zv8vc7sYPAY"
      },
      "source": [
        "https://keras.io/api/layers/merging_layers/concatenate/\n",
        "\n",
        "GRU(Gated Recurrent Units) - https://youtu.be/tOuXgORsXJ4?si=BG9l-HXTijxaovHO"
      ]
    },
    {
      "cell_type": "code",
      "execution_count": null,
      "metadata": {
        "id": "nEO6UI_2Lz1D"
      },
      "outputs": [],
      "source": [
        "from tensorflow import keras\n",
        "from tensorflow.keras import layers as L\n",
        "\n",
        "EMBED_DIM = 64\n",
        "N_REC = 64\n",
        "\n",
        "# create input layers for context_inp and question_input. Name it context and question\n",
        "context_inp = L.Input(shape = (36,), name = 'context')\n",
        "question_inp = L.Input(shape = (36,), name = 'question')\n",
        "\n",
        "context_emb = L.Embedding(len(context_tokenizer.word_index)+1, EMBED_DIM, name='context_embeddings')(context_inp)\n",
        "question_emb = L.Embedding(len(question_tokenizer.word_index)+1, EMBED_DIM, name='question_embeddings')(question_inp)\n",
        "\n",
        "# create GRU layers for context_emb and question_emb, keep return_sequences = True\n",
        "c_gru = L.GRU(units = EMBED_DIM, return_sequences = True)(context_emb)\n",
        "q_gru = L.GRU(N_REC, return_sequences = True)(question_emb)\n",
        "\n",
        "#write code to concatenate these 2 embedding layers, and create a Dense layer for the output\n",
        "outputs = L.Dense(units = 2, activation = 'sigmoid')(L.concatenate([c_gru, q_gru]))\n",
        "\n",
        "model = keras.Model(inputs=[context_inp, question_inp], outputs=outputs)\n",
        "model.compile(loss='binary_crossentropy', optimizer=keras.optimizers.Adam(1e-4))\n",
        "model.summary()\n",
        "keras.utils.plot_model(model, show_shapes=True)"
      ]
    },
    {
      "cell_type": "code",
      "source": [
        "model.summary()"
      ],
      "metadata": {
        "id": "bIfkcaMts17P"
      },
      "execution_count": null,
      "outputs": []
    },
    {
      "cell_type": "code",
      "execution_count": null,
      "metadata": {
        "id": "DYXjYywPL63Z"
      },
      "outputs": [],
      "source": [
        "es = keras.callbacks.EarlyStopping(min_delta=1e-4, patience=5, verbose=1, restore_best_weights=True)\n",
        "rlp = keras.callbacks.ReduceLROnPlateau(patience=2, verbose=1)\n",
        "\n",
        "# fit the model with train data for [context, question] and ans_vec, and similarly write code for validation data, store it in a variable named 'history'\n",
        "# do not forget to keep the number of epochs as 25 and the callbacks as es and rlp\n",
        "history = model.fit([context_train, question_train], ans_vec_train, epochs = 25, callbacks = [es, rlp], validation_data = ([context_test, question_test], ans_vec_test))\n",
        "validation_data = model.evaluate([context_test, question_test], ans_vec_test)"
      ]
    },
    {
      "cell_type": "code",
      "execution_count": null,
      "metadata": {
        "id": "Hu92ABweMmvi"
      },
      "outputs": [],
      "source": [
        "# idx = 10\n",
        "query_context = \"He is playing cricket.\" #context_test[idx:idx+1]\n",
        "query_question = \"neutral\"#question_test[idx:idx+1]\n",
        "query_ans_vec = \"playing\" #ans_vec_test[idx:idx+1]\n",
        "query_context = context_tokenizer.texts_to_sequences([query_context])[0]\n",
        "query_question = context_tokenizer.texts_to_sequences([query_question])[0]\n",
        "query_context_padded = np.array(pad_sequences(query_context, maxlen = 36, truncating = 'post', padding = 'post'))\n",
        "query_question_padded = np.array(pad_sequences(query_question, maxlen = 36, truncating = 'post', padding = 'post'))\n",
        "query_ans_beg, query_ans_end  = np.ravel(ans_vec_test[idx:idx+1].argmax(axis=1))  #Look into what this does\n",
        "# np.ravel returns the 1D equivalent of an array.\n",
        "# it will find the maximum argument from axis 1 of the ans_vec_test[idx] array, in a 2D array form (1 X 2 matrix), which needs to be converted into 1D array.\n",
        "# maximum value in ans_vec_test[idx] along a particular axis will either indicate the beginning or end of the query, and thus only storing them, and further converting the, into\n",
        "\n",
        "print('Context:', context_tokenizer.sequences_to_texts(query_context))\n",
        "print('Question:', question_tokenizer.sequences_to_texts(query_question))\n",
        "print('Answer:', context_tokenizer.sequences_to_texts([query_context[0][query_ans_beg: query_ans_end+1]]))\n",
        "pred_ans_beg, pred_ans_end = np.ravel(model([query_context, query_question]).numpy().argmax(axis=1))\n",
        "print('Predicted Answer:', context_tokenizer.sequences_to_texts([query_context[0][pred_ans_beg: pred_ans_end+1]]))"
      ]
    },
    {
      "cell_type": "markdown",
      "metadata": {
        "id": "ZlJ2TQWXWAQM"
      },
      "source": [
        "Just for fun, here is a cell to put custom inputs and predict which part of the sentence matches the question you input."
      ]
    },
    {
      "cell_type": "code",
      "execution_count": null,
      "metadata": {
        "id": "CAV2bPSHVfDG"
      },
      "outputs": [],
      "source": [
        "def predict_custom_input(custom_context, custom_question):\n",
        "    # Tokenize and preprocess the custom input\n",
        "    custom_context_seq = context_tokenizer.texts_to_sequences([custom_context])\n",
        "    custom_context_padded = np.array(pad_sequences(custom_context_seq, maxlen=36, padding='post', truncating='post'))\n",
        "\n",
        "    custom_question_seq = question_tokenizer.texts_to_sequences([custom_question])\n",
        "    custom_question_padded = np.array(pad_sequences(custom_question_seq, maxlen=36, padding='post', truncating='post'))\n",
        "\n",
        "    # Make predictions using the trained model\n",
        "    predictions = model.predict([custom_context_padded, custom_question_padded])\n",
        "\n",
        "    # Extract predicted answer indices\n",
        "    pred_ans_beg, pred_ans_end = np.ravel(predictions.argmax(axis=1))\n",
        "\n",
        "    # Convert indices to text\n",
        "    pred_answer_text = context_tokenizer.sequences_to_texts([custom_context_padded[0][pred_ans_beg: pred_ans_end+1]])\n",
        "\n",
        "    # Print the results\n",
        "    print('Custom Input:')\n",
        "    print('Context:', custom_context)\n",
        "    print('Question:', custom_question)\n",
        "    print('Predicted Answer:', pred_answer_text)\n",
        "\n",
        "# Example usage:\n",
        "custom_context_input = input(\"Your custom context goes here.\")\n",
        "custom_question_input = input(\"Your custom question goes here.\")\n",
        "predict_custom_input(custom_context_input, custom_question_input)\n"
      ]
    },
    {
      "cell_type": "markdown",
      "metadata": {
        "id": "3bBnWLxYF_kP"
      },
      "source": [
        "# <font color='#4879E2'>More resources</font>\n",
        "\n",
        "Yoav Goldberg's book [Neural Network Methods for Natural Language Processing](http://www.morganclaypool.com/doi/abs/10.2200/S00762ED1V01Y201703HLT037) is a thorough introduction to neural networks for NLP tasks in general.\n",
        "\n",
        "If you'd like to learn more about what Keras is doing under the hood, there is a [Theano tutorial](http://deeplearning.net/tutorial/lstm.html) that also applies an RNN to sentiment prediction, using the same dataset here\n",
        "\n",
        "Andrej Karpathy's blog post [The Unreasonable Effectiveness of Recurrent Neural Networks](http://karpathy.github.io/2015/05/21/rnn-effectiveness/) is very helpful for understanding the mathematical details of an RNN, applied to the task of language modeling. It also provides raw Python code with an implementation of the backpropagation algorithm.\n",
        "\n",
        "TensorFlow also has an RNN language model [tutorial](https://www.tensorflow.org/versions/r0.12/tutorials/recurrent/index.html) using the Penn Treebank dataset\n",
        "\n",
        "Chris Olah provides a good [explanation](http://colah.github.io/posts/2015-08-Understanding-LSTMs/) of how LSTM RNNs work (this explanation also applies to the GRU model used here)\n",
        "\n",
        "Denny Britz's [tutorial](http://www.wildml.com/2015/09/recurrent-neural-networks-tutorial-part-1-introduction-to-rnns/) documents well both the technical details of RNNs and their implementation in Python."
      ]
    },
    {
      "cell_type": "markdown",
      "metadata": {
        "id": "ZmgebwkOGYT4"
      },
      "source": [
        "#Research Task\n",
        "\n",
        "Look into how Name Entity Recognition and Parts of Speech Tagging work and show your research for the same.\n"
      ]
    },
    {
      "cell_type": "markdown",
      "source": [
        "**NAME ENTITY RECOGNITION**\n",
        "\n",
        "Named entity recognition (NER)—also called entity chunking or entity extraction—is a component of natural language processing (NLP) that identifies predefined categories of objects in a body of text.\n",
        "\n",
        "NER METHODOLOGIES\n",
        "\n",
        "Lexicon Based Method\n",
        "\n",
        "The NER uses a dictionary with a list of words or terms. The process involves checking if any of these words are present in a given text. However, this approach isn’t commonly used because it requires constant updating and careful maintenance of the dictionary to stay accurate and effective.\n",
        "\n",
        "\n",
        "Rule Based Method\n",
        "\n",
        "The Rule Based NER method uses a set of predefined rules guides the extraction of information. These rules are based on patterns and context. Pattern-based rules focus on the structure and form of words, looking at their morphological patterns. On the other hand, context-based rules consider the surrounding words or the context in which a word appears within the text document. This combination of pattern-based and context-based rules enhances the precision of information extraction in Named Entity Recognition (NER).\n",
        "\n",
        "Machine Learning-Based Method\n",
        "\n",
        "* Multi-Class Classification with Machine Learning Algorithms\n",
        "One way is to train the model for multi-class classification using different machine learning algorithms, but it requires a lot of labelling. In addition to labelling the model also requires a deep understanding of context to deal with the ambiguity of the sentences. This makes it a challenging task for a simple machine learning algorithm.\n",
        "* Conditional Random Field (CRF)\n",
        "Conditional random field is implemented by both NLP Speech Tagger and NLTK.  It is a probabilistic model that can be used to model sequential data such as words.\n",
        "The CRF can capture a deep understanding of the context of the sentence. In this model, the input\n",
        "* Deep Learning Based Method\n",
        "Deep learning NER system is much more accurate than previous method, as it is capable to assemble words. This is due to the fact that it used a method called word embedding, that is capable of understanding the semantic and syntactic relationship between various words.\n",
        "It is also able to learn analyzes topic specific as well as high level words automatically.\n",
        "\n",
        "This makes deep learning NER applicable for performing multiple tasks. Deep learning can do most of the repetitive work itself, hence researchers for example can use their time more efficiently.\n",
        "\n",
        "HOW NER WORKS\n",
        "\n",
        "Step 1. Data collection\n",
        "The first step of NER is to aggregate a dataset of annotated text. The dataset should contain examples of text where named entities are labeled or marked, indicating their types. The annotations can be done manually or using automated methods.\n",
        "\n",
        "Step 2. Data preprocessing\n",
        "Once the dataset is collected, the text should be cleaned and formatted. You may need to remove unnecessary characters, normalize the text and/or split text into sentences or tokens.\n",
        "\n",
        "Step 3. Feature extraction\n",
        "During this stage, relevant features are extracted from the preprocessed text. These features can include part-of-speech tagging (POS tagging), word embeddings and contextual information, among others. The choice of features will depend on the specific NER model the organization uses.\n",
        "\n",
        "Step 4. Model training\n",
        "The next step is to train a machine learning or deep learning model using the annotated dataset and the extracted features. The model learns to identify patterns and relationships between words in the text, as well as their corresponding named entity labels.\n",
        "\n",
        "Step 5. Model evaluation\n",
        "After you have trained the NER model, it should be evaluated to assess its performance. You can measure metrics like precision, recall and F1 score, which indicate how well the model correctly identifies and classifies named entities.\n",
        "\n",
        "Step 6. Model fine-tuning\n",
        "Based on the evaluation results, you will refine the model to improve its performance. This can include adjusting hyperparameters, modifying the training data and/or using more advanced techniques (e.g., ensembling or domain adaptation).\n",
        "\n",
        "Step 7. Inference\n",
        "At this stage, you can start using the model for inference on new, unseen text. The model will take the input text, apply the preprocessing steps, extract relevant features and ultimately predict the named entity labels for each token or span of text.\n",
        "\n",
        "Step 8. Post-processing\n",
        "The output of the NER model may need to undergo post-processing steps to refine results and/or add contextual information. You may need to complete tasks like entity linking, wherein the named entities are linked to knowledge bases or databases for further enrichment.\n",
        "\n",
        "APPLICATIONS OF NER\n",
        "\n",
        "* Information extraction\n",
        "NER is a crucial first step in extracting useful, structured information from large, unstructured databases. Search engines use NER to improve the relevance and preciseness of their search results.\n",
        "\n",
        "* Automated news aggregation\n",
        "News aggregators use NER to categorize articles and stories based on the named entities they contain, enabling a more organized, efficient way of presenting news to audiences. For instance, NER for news apps automates the classification process, grouping similar news stories together and providing a more comprehensive view of particular news events.\n",
        "\n",
        "* Social media monitoring\n",
        "With the proliferation of social media platforms, the amount of textual data available for analysis is overwhelming. NER plays a significant role in social media analysis, identifying key entities in posts and comments to understand trends and public opinions about different topics (especially opinions around brands and products). This information can help companies conduct sentiment analyses, develop marketing strategies, craft customer service responses and accelerate product development efforts.\n",
        "\n",
        "* Chatbots and virtual assistants\n",
        "Virtual assistants and generative artificial intelligence chatbots and use NER to understand user requests and customer support queries accurately. By identifying critical entities in user queries, these AI-powered tools can provide precise, context-specific responses. For example, in the query \"Find Soul Food restaurants near Piedmont Park,\" NER helps the assistant understand \"Soul Food\" as the cuisine, \"restaurants\" as the type of establishment and \"Piedmont Park\" as the location.\n",
        "\n",
        "* Cybersecurity\n",
        "In cybersecurity, NER helps companies identify potential threats and anomalies in network logs and other security-related data. For example, it can identify suspicious IP addresses, URLs, usernames and filenames in network security logs. As such, NER can facilitate more thorough security incident investigations and improve overall network security.\n"
      ],
      "metadata": {
        "id": "--OkCVpzrNX-"
      }
    },
    {
      "cell_type": "markdown",
      "source": [
        "**PARTS OF SPEECH TAGGING**\n",
        "\n",
        "Parts of Speech tagging is a linguistic activity in Natural Language Processing (NLP) wherein each word in a document is given a particular part of speech (adverb, adjective, verb, etc.) or grammatical category. Through the addition of a layer of syntactic and semantic information to the words, this procedure makes it easier to comprehend the sentence’s structure and meaning.\n",
        "\n",
        "In NLP applications, POS tagging is useful for machine translation, named entity recognition, and information extraction, among other things. It also works well for clearing out ambiguity in terms with numerous meanings and revealing a sentence’s grammatical structure.\n",
        "\n",
        "Default tagging is a basic step for the part-of-speech tagging. It is performed using the DefaultTagger class. The DefaultTagger class takes ‘tag’ as a single argument. NN is the tag for a singular noun. DefaultTagger is most useful when it gets to work with most common part-of-speech tag. that’s why a noun tag is recommended.\n",
        "\n",
        "HOW POS WORKS\n",
        "\n",
        "The following are the processes in a typical natural language processing (NLP) example of part-of-speech (POS) tagging:\n",
        "\n",
        "* Tokenization: Divide the input text into discrete tokens, which are usually units of words or subwords. The first stage in NLP tasks is tokenization.\n",
        "* Loading Language Models: To utilize a library such as NLTK or SpaCy, be sure to load the relevant language model. These models offer a foundation for comprehending a language’s grammatical structure since they have been trained on a vast amount of linguistic data.\n",
        "* Text Processing: If required, preprocess the text to handle special characters, convert it to lowercase, or eliminate superfluous information. Correct PoS labeling is aided by clear text.\n",
        "* Linguistic Analysis: To determine the text’s grammatical structure, use linguistic analysis. This entails understanding each word’s purpose inside the sentence, including whether it is an adjective, verb, noun, or other.\n",
        "* Part-of-Speech Tagging: To determine the text’s grammatical structure, use linguistic analysis. This entails understanding each word’s purpose inside the sentence, including whether it is an adjective, verb, noun, or other.\n",
        "* Results Analysis: Verify the accuracy and consistency of the PoS tagging findings with the source text. Determine and correct any possible problems or mistagging.\n",
        "\n",
        "TYPES OF POS TAGGERS\n",
        "\n",
        "POS-tagging algorithms fall into two distinctive groups:\n",
        "* Rule-Based POS Taggers\n",
        "* Stochastic POS Taggers\n",
        "* Transformation Based Taggers\n",
        "\n",
        "Rule-Based Tagging\n",
        "\n",
        "Automatic part of speech tagging is an area of natural language processing where statistical techniques have been more successful than rule-based methods.\n",
        "Typical rule-based approaches use contextual information to assign tags to unknown or ambiguous words. Disambiguation is done by analyzing the linguistic features of the word, its preceding word, its following word, and other aspects.\n",
        "For example, if the preceding word is an article, then the word in question must be a noun. This information is coded in the form of rules.\n",
        "\n",
        "Stochastic Part-of-Speech Tagging\n",
        "\n",
        "The term ‘stochastic tagger’ can refer to any number of different approaches to the problem of POS tagging. Any model which somehow incorporates frequency or probability may be properly labelled stochastic.\n",
        "The simplest stochastic taggers disambiguate words based solely on the probability that a word occurs with a particular tag. In other words, the tag encountered most frequently in the training set with the word is the one assigned to an ambiguous instance of that word. The problem with this approach is that while it may yield a valid tag for a given word, it can also yield inadmissible sequences of tags.\n",
        "An alternative to the word frequency approach is to calculate the probability of a given sequence of tags occurring. This is sometimes referred to as the n-gram approach, referring to the fact that the best tag for a given word is determined by the probability that it occurs with the n previous tags. This approach makes much more sense than the one defined before, because it considers the tags for individual words based on context.\n",
        "In order to capture the statistical linkages present in language, these algorithms learn the probability distribution of word-tag sequences. CRFs (conditional random fields) and Hidden Markov Models (HMMs) are popular models for statistical point-of-sale classification. The algorithm estimates the chance of observing a specific tag given the current word and its context by learning from labeled samples during training. Hidden Markov Model POS tagging: Hidden Markov Models (HMMs) serve as a statistical framework for part-of-speech (POS) tagging in natural language processing (NLP). In HMM-based POS tagging, the model undergoes training on a sizable annotated text corpus to discern patterns in various parts of speech. Leveraging this training, the model predicts the POS tag for a given word based on the probabilities associated with different tags within its context.\n",
        "Comprising states for potential POS tags and transitions between them, the HMM-based POS tagger learns transition probabilities and word-emission probabilities during training. To tag new text, the model, employing the Viterbi algorithm, calculates the most probable sequence of POS tags based on the learned probabilities.\n",
        "\n",
        "Transformation Based tagging\n",
        "\n",
        "Transformation-based tagging (TBT) is a part-of-speech (POS) tagging method that uses a set of rules to change the tags that are applied to words inside a text. In contrast, statistical POS tagging uses trained algorithms to predict tags probabilistically, while rule-based POS tagging assigns tags directly based on predefined rules.\n",
        "To change word tags in TBT, a set of rules is created depending on contextual information. A rule could, for example, change a verb’s tag to a noun if it comes after a determiner like “the.” The text is systematically subjected to these criteria, and after each transformation, the tags are updated.\n",
        "When compared to rule-based tagging, TBT can provide higher accuracy, especially when dealing with complex grammatical structures. To attain ideal performance, nevertheless, it might require a large rule set and additional computer power."
      ],
      "metadata": {
        "id": "jJHCQFHL8VPC"
      }
    }
  ],
  "metadata": {
    "colab": {
      "provenance": [],
      "gpuType": "T4",
      "include_colab_link": true
    },
    "kernelspec": {
      "display_name": "Python 3",
      "name": "python3"
    },
    "language_info": {
      "name": "python"
    },
    "accelerator": "GPU"
  },
  "nbformat": 4,
  "nbformat_minor": 0
}